{
 "cells": [
  {
   "cell_type": "code",
   "execution_count": 3,
   "id": "53fca45b",
   "metadata": {},
   "outputs": [
    {
     "name": "stdout",
     "output_type": "stream",
     "text": [
      "\u001b[31mConverting audio transcripts into English text ...\n",
      " \n",
      "\u001b[34mthis is Anubhav Kumar Pandey currently pursuing Masters in data Science from JNU New Delhi\n",
      "\n",
      "\u001b[31mConverting audio transcripts into Hindi text ...\n",
      " \n",
      "\u001b[32mमेरा नाम अनुभव कुमार पांडे है मैं अभी जेएनयू नई दिल्ली से डाटा साइंस में मास्टर्स कर रहा हूं\n"
     ]
    }
   ],
   "source": [
    "import speech_recognition as sr\n",
    "import colorama\n",
    "from colorama import Fore\n",
    "\n",
    "# Initialize recognizer class (for recognizing the speech)\n",
    "r = sr.Recognizer()\n",
    "\n",
    "# Reading Audio file as source\n",
    "# listening the audio file and store in audio_text variable\n",
    "\n",
    "with sr.AudioFile(\"E:\\\\NLP-Project\\\\MVoiceEngF.wav\") as source:\n",
    "    \n",
    "    audio_text = r.listen(source)\n",
    "    \n",
    "# recoginize_() method will throw a request error if the API is unreachable, hence using exception handling\n",
    "    try:\n",
    "        \n",
    "        # using google speech recognition\n",
    "        text = r.recognize_google(audio_text)\n",
    "        print(Fore.RED + 'Converting audio transcripts into English text ...')\n",
    "        print(' ')\n",
    "        print(Fore.BLUE + text)\n",
    "        print('')\n",
    "     \n",
    "    except:\n",
    "         print('Sorry.. run again...')\n",
    "with sr.AudioFile(\"E:\\\\NLP-Project\\\\MVoiceHnF.wav\") as sourcen:\n",
    "    \n",
    "    audio_text = r.listen(sourcen)\n",
    "\n",
    "    try:\n",
    "        \n",
    "        # using google speech recognition\n",
    "        text = r.recognize_google(audio_text, language = \"hi-IN\")\n",
    "        print(Fore.RED + 'Converting audio transcripts into Hindi text ...')\n",
    "        print(' ')\n",
    "        print(Fore.GREEN + text)\n",
    "     \n",
    "    except:\n",
    "         print('Sorry.. run again...')\n",
    "            "
   ]
  },
  {
   "cell_type": "code",
   "execution_count": null,
   "id": "b274787c",
   "metadata": {},
   "outputs": [],
   "source": []
  },
  {
   "cell_type": "code",
   "execution_count": null,
   "id": "8542cc7c",
   "metadata": {},
   "outputs": [],
   "source": []
  },
  {
   "cell_type": "code",
   "execution_count": null,
   "id": "26c2a358",
   "metadata": {},
   "outputs": [],
   "source": []
  }
 ],
 "metadata": {
  "kernelspec": {
   "display_name": "Python 3 (ipykernel)",
   "language": "python",
   "name": "python3"
  },
  "language_info": {
   "codemirror_mode": {
    "name": "ipython",
    "version": 3
   },
   "file_extension": ".py",
   "mimetype": "text/x-python",
   "name": "python",
   "nbconvert_exporter": "python",
   "pygments_lexer": "ipython3",
   "version": "3.9.12"
  }
 },
 "nbformat": 4,
 "nbformat_minor": 5
}
